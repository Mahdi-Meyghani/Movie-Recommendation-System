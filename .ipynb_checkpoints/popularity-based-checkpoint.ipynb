{
 "cells": [
  {
   "metadata": {},
   "cell_type": "markdown",
   "source": "# Popularity-Based Filtering",
   "id": "eebdfc84dfaba32f"
  },
  {
   "metadata": {},
   "cell_type": "markdown",
   "source": "### Load Data",
   "id": "42d9f808e3717d56"
  },
  {
   "metadata": {
    "ExecuteTime": {
     "end_time": "2024-08-17T12:47:15.843970Z",
     "start_time": "2024-08-17T12:47:15.829653Z"
    }
   },
   "cell_type": "code",
   "source": "print(\"hi\")",
   "id": "f4a5754bb2a85cbf",
   "outputs": [
    {
     "name": "stdout",
     "output_type": "stream",
     "text": [
      "hi\n"
     ]
    }
   ],
   "execution_count": 1
  }
 ],
 "metadata": {
  "kernelspec": {
   "display_name": "Python 3",
   "language": "python",
   "name": "python3"
  },
  "language_info": {
   "codemirror_mode": {
    "name": "ipython",
    "version": 2
   },
   "file_extension": ".py",
   "mimetype": "text/x-python",
   "name": "python",
   "nbconvert_exporter": "python",
   "pygments_lexer": "ipython2",
   "version": "2.7.6"
  }
 },
 "nbformat": 4,
 "nbformat_minor": 5
}
