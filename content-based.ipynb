{
 "cells": [
  {
   "metadata": {},
   "cell_type": "markdown",
   "source": "# Content-Based Filtering",
   "id": "e998e97ec6379834"
  },
  {
   "metadata": {},
   "cell_type": "markdown",
   "source": "### Load Data",
   "id": "f7aa0c86a0760d23"
  },
  {
   "metadata": {
    "ExecuteTime": {
     "end_time": "2024-08-17T19:37:57.413092Z",
     "start_time": "2024-08-17T19:37:57.406722Z"
    }
   },
   "cell_type": "code",
   "source": "import pandas as pd",
   "id": "2695475410be5aad",
   "outputs": [],
   "execution_count": 24
  },
  {
   "metadata": {
    "ExecuteTime": {
     "end_time": "2024-08-17T19:37:57.579391Z",
     "start_time": "2024-08-17T19:37:57.485544Z"
    }
   },
   "cell_type": "code",
   "source": "movies = pd.read_csv(\"movies.csv\", sep=\",\")",
   "id": "9c0c11b785ddae1b",
   "outputs": [],
   "execution_count": 25
  },
  {
   "metadata": {
    "ExecuteTime": {
     "end_time": "2024-08-17T19:37:57.596383Z",
     "start_time": "2024-08-17T19:37:57.579391Z"
    }
   },
   "cell_type": "code",
   "source": "movies[:1]",
   "id": "c10ddaee65e42b8c",
   "outputs": [
    {
     "data": {
      "text/plain": [
       "      budget                                             genres  \\\n",
       "0  237000000  [{\"id\": 28, \"name\": \"Action\"}, {\"id\": 12, \"nam...   \n",
       "\n",
       "                      homepage     id  \\\n",
       "0  http://www.avatarmovie.com/  19995   \n",
       "\n",
       "                                            keywords original_language  \\\n",
       "0  [{\"id\": 1463, \"name\": \"culture clash\"}, {\"id\":...                en   \n",
       "\n",
       "  original_title                                           overview  \\\n",
       "0         Avatar  In the 22nd century, a paraplegic Marine is di...   \n",
       "\n",
       "   popularity                               production_companies  \\\n",
       "0  150.437577  [{\"name\": \"Ingenious Film Partners\", \"id\": 289...   \n",
       "\n",
       "                                production_countries release_date     revenue  \\\n",
       "0  [{\"iso_3166_1\": \"US\", \"name\": \"United States o...   2009-12-10  2787965087   \n",
       "\n",
       "   runtime                                   spoken_languages    status  \\\n",
       "0    162.0  [{\"iso_639_1\": \"en\", \"name\": \"English\"}, {\"iso...  Released   \n",
       "\n",
       "                       tagline   title  vote_average  vote_count  \n",
       "0  Enter the World of Pandora.  Avatar           7.2       11800  "
      ],
      "text/html": [
       "<div>\n",
       "<style scoped>\n",
       "    .dataframe tbody tr th:only-of-type {\n",
       "        vertical-align: middle;\n",
       "    }\n",
       "\n",
       "    .dataframe tbody tr th {\n",
       "        vertical-align: top;\n",
       "    }\n",
       "\n",
       "    .dataframe thead th {\n",
       "        text-align: right;\n",
       "    }\n",
       "</style>\n",
       "<table border=\"1\" class=\"dataframe\">\n",
       "  <thead>\n",
       "    <tr style=\"text-align: right;\">\n",
       "      <th></th>\n",
       "      <th>budget</th>\n",
       "      <th>genres</th>\n",
       "      <th>homepage</th>\n",
       "      <th>id</th>\n",
       "      <th>keywords</th>\n",
       "      <th>original_language</th>\n",
       "      <th>original_title</th>\n",
       "      <th>overview</th>\n",
       "      <th>popularity</th>\n",
       "      <th>production_companies</th>\n",
       "      <th>production_countries</th>\n",
       "      <th>release_date</th>\n",
       "      <th>revenue</th>\n",
       "      <th>runtime</th>\n",
       "      <th>spoken_languages</th>\n",
       "      <th>status</th>\n",
       "      <th>tagline</th>\n",
       "      <th>title</th>\n",
       "      <th>vote_average</th>\n",
       "      <th>vote_count</th>\n",
       "    </tr>\n",
       "  </thead>\n",
       "  <tbody>\n",
       "    <tr>\n",
       "      <th>0</th>\n",
       "      <td>237000000</td>\n",
       "      <td>[{\"id\": 28, \"name\": \"Action\"}, {\"id\": 12, \"nam...</td>\n",
       "      <td>http://www.avatarmovie.com/</td>\n",
       "      <td>19995</td>\n",
       "      <td>[{\"id\": 1463, \"name\": \"culture clash\"}, {\"id\":...</td>\n",
       "      <td>en</td>\n",
       "      <td>Avatar</td>\n",
       "      <td>In the 22nd century, a paraplegic Marine is di...</td>\n",
       "      <td>150.437577</td>\n",
       "      <td>[{\"name\": \"Ingenious Film Partners\", \"id\": 289...</td>\n",
       "      <td>[{\"iso_3166_1\": \"US\", \"name\": \"United States o...</td>\n",
       "      <td>2009-12-10</td>\n",
       "      <td>2787965087</td>\n",
       "      <td>162.0</td>\n",
       "      <td>[{\"iso_639_1\": \"en\", \"name\": \"English\"}, {\"iso...</td>\n",
       "      <td>Released</td>\n",
       "      <td>Enter the World of Pandora.</td>\n",
       "      <td>Avatar</td>\n",
       "      <td>7.2</td>\n",
       "      <td>11800</td>\n",
       "    </tr>\n",
       "  </tbody>\n",
       "</table>\n",
       "</div>"
      ]
     },
     "execution_count": 26,
     "metadata": {},
     "output_type": "execute_result"
    }
   ],
   "execution_count": 26
  },
  {
   "metadata": {},
   "cell_type": "markdown",
   "source": "### Create TfidfVectorizer Object",
   "id": "5a128f24638af0bd"
  },
  {
   "metadata": {
    "ExecuteTime": {
     "end_time": "2024-08-17T19:37:57.645973Z",
     "start_time": "2024-08-17T19:37:57.596383Z"
    }
   },
   "cell_type": "code",
   "source": [
    "from sklearn.feature_extraction.text import TfidfVectorizer\n",
    "tfidf = TfidfVectorizer(stop_words=\"english\")"
   ],
   "id": "413eb32d9f0f7485",
   "outputs": [],
   "execution_count": 27
  },
  {
   "metadata": {
    "ExecuteTime": {
     "end_time": "2024-08-17T19:37:57.653368Z",
     "start_time": "2024-08-17T19:37:57.645973Z"
    }
   },
   "cell_type": "code",
   "source": "movies[\"overview\"] = movies[\"overview\"].fillna(\"\")",
   "id": "cb29985a22a8ca49",
   "outputs": [],
   "execution_count": 28
  },
  {
   "metadata": {
    "ExecuteTime": {
     "end_time": "2024-08-17T19:37:57.666260Z",
     "start_time": "2024-08-17T19:37:57.653368Z"
    }
   },
   "cell_type": "code",
   "source": "movies[\"overview\"]",
   "id": "7dc84ecd2503a9cc",
   "outputs": [
    {
     "data": {
      "text/plain": [
       "0       In the 22nd century, a paraplegic Marine is di...\n",
       "1       Captain Barbossa, long believed to be dead, ha...\n",
       "2       A cryptic message from Bond’s past sends him o...\n",
       "3       Following the death of District Attorney Harve...\n",
       "4       John Carter is a war-weary, former military ca...\n",
       "                              ...                        \n",
       "4798    El Mariachi just wants to play his guitar and ...\n",
       "4799    A newlywed couple's honeymoon is upended by th...\n",
       "4800    \"Signed, Sealed, Delivered\" introduces a dedic...\n",
       "4801    When ambitious New York attorney Sam is sent t...\n",
       "4802    Ever since the second grade when he first saw ...\n",
       "Name: overview, Length: 4803, dtype: object"
      ]
     },
     "execution_count": 29,
     "metadata": {},
     "output_type": "execute_result"
    }
   ],
   "execution_count": 29
  },
  {
   "metadata": {},
   "cell_type": "markdown",
   "source": "### Create tfidf matrix of overviews",
   "id": "a5b1fb847c3b7f10"
  },
  {
   "metadata": {
    "ExecuteTime": {
     "end_time": "2024-08-17T19:37:57.857884Z",
     "start_time": "2024-08-17T19:37:57.666260Z"
    }
   },
   "cell_type": "code",
   "source": "overview_tfidf = tfidf.fit_transform(movies[\"overview\"])",
   "id": "385ea0b2f329e6ae",
   "outputs": [],
   "execution_count": 30
  },
  {
   "metadata": {
    "ExecuteTime": {
     "end_time": "2024-08-17T19:37:57.980490Z",
     "start_time": "2024-08-17T19:37:57.857884Z"
    }
   },
   "cell_type": "code",
   "source": "pd.DataFrame(overview_tfidf.toarray(), columns=tfidf.get_feature_names_out())",
   "id": "ed317cf3474ea092",
   "outputs": [
    {
     "data": {
      "text/plain": [
       "       00  000  007  07am   10  100  1000  101  108  10th  ...  zuckerberg  \\\n",
       "0     0.0  0.0  0.0   0.0  0.0  0.0   0.0  0.0  0.0   0.0  ...         0.0   \n",
       "1     0.0  0.0  0.0   0.0  0.0  0.0   0.0  0.0  0.0   0.0  ...         0.0   \n",
       "2     0.0  0.0  0.0   0.0  0.0  0.0   0.0  0.0  0.0   0.0  ...         0.0   \n",
       "3     0.0  0.0  0.0   0.0  0.0  0.0   0.0  0.0  0.0   0.0  ...         0.0   \n",
       "4     0.0  0.0  0.0   0.0  0.0  0.0   0.0  0.0  0.0   0.0  ...         0.0   \n",
       "...   ...  ...  ...   ...  ...  ...   ...  ...  ...   ...  ...         ...   \n",
       "4798  0.0  0.0  0.0   0.0  0.0  0.0   0.0  0.0  0.0   0.0  ...         0.0   \n",
       "4799  0.0  0.0  0.0   0.0  0.0  0.0   0.0  0.0  0.0   0.0  ...         0.0   \n",
       "4800  0.0  0.0  0.0   0.0  0.0  0.0   0.0  0.0  0.0   0.0  ...         0.0   \n",
       "4801  0.0  0.0  0.0   0.0  0.0  0.0   0.0  0.0  0.0   0.0  ...         0.0   \n",
       "4802  0.0  0.0  0.0   0.0  0.0  0.0   0.0  0.0  0.0   0.0  ...         0.0   \n",
       "\n",
       "      zula  zuzu  zyklon  æon  éloigne  émigré  été  única  über  \n",
       "0      0.0   0.0     0.0  0.0      0.0     0.0  0.0    0.0   0.0  \n",
       "1      0.0   0.0     0.0  0.0      0.0     0.0  0.0    0.0   0.0  \n",
       "2      0.0   0.0     0.0  0.0      0.0     0.0  0.0    0.0   0.0  \n",
       "3      0.0   0.0     0.0  0.0      0.0     0.0  0.0    0.0   0.0  \n",
       "4      0.0   0.0     0.0  0.0      0.0     0.0  0.0    0.0   0.0  \n",
       "...    ...   ...     ...  ...      ...     ...  ...    ...   ...  \n",
       "4798   0.0   0.0     0.0  0.0      0.0     0.0  0.0    0.0   0.0  \n",
       "4799   0.0   0.0     0.0  0.0      0.0     0.0  0.0    0.0   0.0  \n",
       "4800   0.0   0.0     0.0  0.0      0.0     0.0  0.0    0.0   0.0  \n",
       "4801   0.0   0.0     0.0  0.0      0.0     0.0  0.0    0.0   0.0  \n",
       "4802   0.0   0.0     0.0  0.0      0.0     0.0  0.0    0.0   0.0  \n",
       "\n",
       "[4803 rows x 20978 columns]"
      ],
      "text/html": [
       "<div>\n",
       "<style scoped>\n",
       "    .dataframe tbody tr th:only-of-type {\n",
       "        vertical-align: middle;\n",
       "    }\n",
       "\n",
       "    .dataframe tbody tr th {\n",
       "        vertical-align: top;\n",
       "    }\n",
       "\n",
       "    .dataframe thead th {\n",
       "        text-align: right;\n",
       "    }\n",
       "</style>\n",
       "<table border=\"1\" class=\"dataframe\">\n",
       "  <thead>\n",
       "    <tr style=\"text-align: right;\">\n",
       "      <th></th>\n",
       "      <th>00</th>\n",
       "      <th>000</th>\n",
       "      <th>007</th>\n",
       "      <th>07am</th>\n",
       "      <th>10</th>\n",
       "      <th>100</th>\n",
       "      <th>1000</th>\n",
       "      <th>101</th>\n",
       "      <th>108</th>\n",
       "      <th>10th</th>\n",
       "      <th>...</th>\n",
       "      <th>zuckerberg</th>\n",
       "      <th>zula</th>\n",
       "      <th>zuzu</th>\n",
       "      <th>zyklon</th>\n",
       "      <th>æon</th>\n",
       "      <th>éloigne</th>\n",
       "      <th>émigré</th>\n",
       "      <th>été</th>\n",
       "      <th>única</th>\n",
       "      <th>über</th>\n",
       "    </tr>\n",
       "  </thead>\n",
       "  <tbody>\n",
       "    <tr>\n",
       "      <th>0</th>\n",
       "      <td>0.0</td>\n",
       "      <td>0.0</td>\n",
       "      <td>0.0</td>\n",
       "      <td>0.0</td>\n",
       "      <td>0.0</td>\n",
       "      <td>0.0</td>\n",
       "      <td>0.0</td>\n",
       "      <td>0.0</td>\n",
       "      <td>0.0</td>\n",
       "      <td>0.0</td>\n",
       "      <td>...</td>\n",
       "      <td>0.0</td>\n",
       "      <td>0.0</td>\n",
       "      <td>0.0</td>\n",
       "      <td>0.0</td>\n",
       "      <td>0.0</td>\n",
       "      <td>0.0</td>\n",
       "      <td>0.0</td>\n",
       "      <td>0.0</td>\n",
       "      <td>0.0</td>\n",
       "      <td>0.0</td>\n",
       "    </tr>\n",
       "    <tr>\n",
       "      <th>1</th>\n",
       "      <td>0.0</td>\n",
       "      <td>0.0</td>\n",
       "      <td>0.0</td>\n",
       "      <td>0.0</td>\n",
       "      <td>0.0</td>\n",
       "      <td>0.0</td>\n",
       "      <td>0.0</td>\n",
       "      <td>0.0</td>\n",
       "      <td>0.0</td>\n",
       "      <td>0.0</td>\n",
       "      <td>...</td>\n",
       "      <td>0.0</td>\n",
       "      <td>0.0</td>\n",
       "      <td>0.0</td>\n",
       "      <td>0.0</td>\n",
       "      <td>0.0</td>\n",
       "      <td>0.0</td>\n",
       "      <td>0.0</td>\n",
       "      <td>0.0</td>\n",
       "      <td>0.0</td>\n",
       "      <td>0.0</td>\n",
       "    </tr>\n",
       "    <tr>\n",
       "      <th>2</th>\n",
       "      <td>0.0</td>\n",
       "      <td>0.0</td>\n",
       "      <td>0.0</td>\n",
       "      <td>0.0</td>\n",
       "      <td>0.0</td>\n",
       "      <td>0.0</td>\n",
       "      <td>0.0</td>\n",
       "      <td>0.0</td>\n",
       "      <td>0.0</td>\n",
       "      <td>0.0</td>\n",
       "      <td>...</td>\n",
       "      <td>0.0</td>\n",
       "      <td>0.0</td>\n",
       "      <td>0.0</td>\n",
       "      <td>0.0</td>\n",
       "      <td>0.0</td>\n",
       "      <td>0.0</td>\n",
       "      <td>0.0</td>\n",
       "      <td>0.0</td>\n",
       "      <td>0.0</td>\n",
       "      <td>0.0</td>\n",
       "    </tr>\n",
       "    <tr>\n",
       "      <th>3</th>\n",
       "      <td>0.0</td>\n",
       "      <td>0.0</td>\n",
       "      <td>0.0</td>\n",
       "      <td>0.0</td>\n",
       "      <td>0.0</td>\n",
       "      <td>0.0</td>\n",
       "      <td>0.0</td>\n",
       "      <td>0.0</td>\n",
       "      <td>0.0</td>\n",
       "      <td>0.0</td>\n",
       "      <td>...</td>\n",
       "      <td>0.0</td>\n",
       "      <td>0.0</td>\n",
       "      <td>0.0</td>\n",
       "      <td>0.0</td>\n",
       "      <td>0.0</td>\n",
       "      <td>0.0</td>\n",
       "      <td>0.0</td>\n",
       "      <td>0.0</td>\n",
       "      <td>0.0</td>\n",
       "      <td>0.0</td>\n",
       "    </tr>\n",
       "    <tr>\n",
       "      <th>4</th>\n",
       "      <td>0.0</td>\n",
       "      <td>0.0</td>\n",
       "      <td>0.0</td>\n",
       "      <td>0.0</td>\n",
       "      <td>0.0</td>\n",
       "      <td>0.0</td>\n",
       "      <td>0.0</td>\n",
       "      <td>0.0</td>\n",
       "      <td>0.0</td>\n",
       "      <td>0.0</td>\n",
       "      <td>...</td>\n",
       "      <td>0.0</td>\n",
       "      <td>0.0</td>\n",
       "      <td>0.0</td>\n",
       "      <td>0.0</td>\n",
       "      <td>0.0</td>\n",
       "      <td>0.0</td>\n",
       "      <td>0.0</td>\n",
       "      <td>0.0</td>\n",
       "      <td>0.0</td>\n",
       "      <td>0.0</td>\n",
       "    </tr>\n",
       "    <tr>\n",
       "      <th>...</th>\n",
       "      <td>...</td>\n",
       "      <td>...</td>\n",
       "      <td>...</td>\n",
       "      <td>...</td>\n",
       "      <td>...</td>\n",
       "      <td>...</td>\n",
       "      <td>...</td>\n",
       "      <td>...</td>\n",
       "      <td>...</td>\n",
       "      <td>...</td>\n",
       "      <td>...</td>\n",
       "      <td>...</td>\n",
       "      <td>...</td>\n",
       "      <td>...</td>\n",
       "      <td>...</td>\n",
       "      <td>...</td>\n",
       "      <td>...</td>\n",
       "      <td>...</td>\n",
       "      <td>...</td>\n",
       "      <td>...</td>\n",
       "      <td>...</td>\n",
       "    </tr>\n",
       "    <tr>\n",
       "      <th>4798</th>\n",
       "      <td>0.0</td>\n",
       "      <td>0.0</td>\n",
       "      <td>0.0</td>\n",
       "      <td>0.0</td>\n",
       "      <td>0.0</td>\n",
       "      <td>0.0</td>\n",
       "      <td>0.0</td>\n",
       "      <td>0.0</td>\n",
       "      <td>0.0</td>\n",
       "      <td>0.0</td>\n",
       "      <td>...</td>\n",
       "      <td>0.0</td>\n",
       "      <td>0.0</td>\n",
       "      <td>0.0</td>\n",
       "      <td>0.0</td>\n",
       "      <td>0.0</td>\n",
       "      <td>0.0</td>\n",
       "      <td>0.0</td>\n",
       "      <td>0.0</td>\n",
       "      <td>0.0</td>\n",
       "      <td>0.0</td>\n",
       "    </tr>\n",
       "    <tr>\n",
       "      <th>4799</th>\n",
       "      <td>0.0</td>\n",
       "      <td>0.0</td>\n",
       "      <td>0.0</td>\n",
       "      <td>0.0</td>\n",
       "      <td>0.0</td>\n",
       "      <td>0.0</td>\n",
       "      <td>0.0</td>\n",
       "      <td>0.0</td>\n",
       "      <td>0.0</td>\n",
       "      <td>0.0</td>\n",
       "      <td>...</td>\n",
       "      <td>0.0</td>\n",
       "      <td>0.0</td>\n",
       "      <td>0.0</td>\n",
       "      <td>0.0</td>\n",
       "      <td>0.0</td>\n",
       "      <td>0.0</td>\n",
       "      <td>0.0</td>\n",
       "      <td>0.0</td>\n",
       "      <td>0.0</td>\n",
       "      <td>0.0</td>\n",
       "    </tr>\n",
       "    <tr>\n",
       "      <th>4800</th>\n",
       "      <td>0.0</td>\n",
       "      <td>0.0</td>\n",
       "      <td>0.0</td>\n",
       "      <td>0.0</td>\n",
       "      <td>0.0</td>\n",
       "      <td>0.0</td>\n",
       "      <td>0.0</td>\n",
       "      <td>0.0</td>\n",
       "      <td>0.0</td>\n",
       "      <td>0.0</td>\n",
       "      <td>...</td>\n",
       "      <td>0.0</td>\n",
       "      <td>0.0</td>\n",
       "      <td>0.0</td>\n",
       "      <td>0.0</td>\n",
       "      <td>0.0</td>\n",
       "      <td>0.0</td>\n",
       "      <td>0.0</td>\n",
       "      <td>0.0</td>\n",
       "      <td>0.0</td>\n",
       "      <td>0.0</td>\n",
       "    </tr>\n",
       "    <tr>\n",
       "      <th>4801</th>\n",
       "      <td>0.0</td>\n",
       "      <td>0.0</td>\n",
       "      <td>0.0</td>\n",
       "      <td>0.0</td>\n",
       "      <td>0.0</td>\n",
       "      <td>0.0</td>\n",
       "      <td>0.0</td>\n",
       "      <td>0.0</td>\n",
       "      <td>0.0</td>\n",
       "      <td>0.0</td>\n",
       "      <td>...</td>\n",
       "      <td>0.0</td>\n",
       "      <td>0.0</td>\n",
       "      <td>0.0</td>\n",
       "      <td>0.0</td>\n",
       "      <td>0.0</td>\n",
       "      <td>0.0</td>\n",
       "      <td>0.0</td>\n",
       "      <td>0.0</td>\n",
       "      <td>0.0</td>\n",
       "      <td>0.0</td>\n",
       "    </tr>\n",
       "    <tr>\n",
       "      <th>4802</th>\n",
       "      <td>0.0</td>\n",
       "      <td>0.0</td>\n",
       "      <td>0.0</td>\n",
       "      <td>0.0</td>\n",
       "      <td>0.0</td>\n",
       "      <td>0.0</td>\n",
       "      <td>0.0</td>\n",
       "      <td>0.0</td>\n",
       "      <td>0.0</td>\n",
       "      <td>0.0</td>\n",
       "      <td>...</td>\n",
       "      <td>0.0</td>\n",
       "      <td>0.0</td>\n",
       "      <td>0.0</td>\n",
       "      <td>0.0</td>\n",
       "      <td>0.0</td>\n",
       "      <td>0.0</td>\n",
       "      <td>0.0</td>\n",
       "      <td>0.0</td>\n",
       "      <td>0.0</td>\n",
       "      <td>0.0</td>\n",
       "    </tr>\n",
       "  </tbody>\n",
       "</table>\n",
       "<p>4803 rows × 20978 columns</p>\n",
       "</div>"
      ]
     },
     "execution_count": 31,
     "metadata": {},
     "output_type": "execute_result"
    }
   ],
   "execution_count": 31
  },
  {
   "metadata": {
    "ExecuteTime": {
     "end_time": "2024-08-17T19:37:57.985208Z",
     "start_time": "2024-08-17T19:37:57.980490Z"
    }
   },
   "cell_type": "code",
   "source": "overview_tfidf.shape",
   "id": "53a91e297d3d3ee4",
   "outputs": [
    {
     "data": {
      "text/plain": [
       "(4803, 20978)"
      ]
     },
     "execution_count": 32,
     "metadata": {},
     "output_type": "execute_result"
    }
   ],
   "execution_count": 32
  },
  {
   "metadata": {},
   "cell_type": "markdown",
   "source": "### Similarity Matrix",
   "id": "92e23f389f7b6ad7"
  },
  {
   "metadata": {
    "ExecuteTime": {
     "end_time": "2024-08-17T19:37:57.989544Z",
     "start_time": "2024-08-17T19:37:57.985208Z"
    }
   },
   "cell_type": "code",
   "source": "from sklearn.metrics.pairwise import linear_kernel",
   "id": "b53306816efacb3f",
   "outputs": [],
   "execution_count": 33
  },
  {
   "metadata": {
    "ExecuteTime": {
     "end_time": "2024-08-17T19:37:58.188856Z",
     "start_time": "2024-08-17T19:37:57.991057Z"
    }
   },
   "cell_type": "code",
   "source": "similarity_matrix = linear_kernel(overview_tfidf, overview_tfidf)",
   "id": "17dea828e081570",
   "outputs": [],
   "execution_count": 34
  },
  {
   "metadata": {
    "ExecuteTime": {
     "end_time": "2024-08-17T19:37:58.194938Z",
     "start_time": "2024-08-17T19:37:58.188856Z"
    }
   },
   "cell_type": "code",
   "source": "similarity_matrix",
   "id": "5e0f061754468df8",
   "outputs": [
    {
     "data": {
      "text/plain": [
       "array([[1.        , 0.        , 0.        , ..., 0.        , 0.        ,\n",
       "        0.        ],\n",
       "       [0.        , 1.        , 0.        , ..., 0.02160533, 0.        ,\n",
       "        0.        ],\n",
       "       [0.        , 0.        , 1.        , ..., 0.01488159, 0.        ,\n",
       "        0.        ],\n",
       "       ...,\n",
       "       [0.        , 0.02160533, 0.01488159, ..., 1.        , 0.01609091,\n",
       "        0.00701914],\n",
       "       [0.        , 0.        , 0.        , ..., 0.01609091, 1.        ,\n",
       "        0.01171696],\n",
       "       [0.        , 0.        , 0.        , ..., 0.00701914, 0.01171696,\n",
       "        1.        ]])"
      ]
     },
     "execution_count": 35,
     "metadata": {},
     "output_type": "execute_result"
    }
   ],
   "execution_count": 35
  },
  {
   "metadata": {
    "ExecuteTime": {
     "end_time": "2024-08-17T19:37:58.201572Z",
     "start_time": "2024-08-17T19:37:58.194938Z"
    }
   },
   "cell_type": "code",
   "source": "similarity_matrix.shape",
   "id": "e5e0965831ba401e",
   "outputs": [
    {
     "data": {
      "text/plain": [
       "(4803, 4803)"
      ]
     },
     "execution_count": 36,
     "metadata": {},
     "output_type": "execute_result"
    }
   ],
   "execution_count": 36
  },
  {
   "metadata": {
    "ExecuteTime": {
     "end_time": "2024-08-17T19:37:58.207812Z",
     "start_time": "2024-08-17T19:37:58.201572Z"
    }
   },
   "cell_type": "code",
   "source": "similarity_matrix[1]",
   "id": "8843c616e184358",
   "outputs": [
    {
     "data": {
      "text/plain": [
       "array([0.        , 1.        , 0.        , ..., 0.02160533, 0.        ,\n",
       "       0.        ])"
      ]
     },
     "execution_count": 37,
     "metadata": {},
     "output_type": "execute_result"
    }
   ],
   "execution_count": 37
  },
  {
   "metadata": {},
   "cell_type": "markdown",
   "source": "### Find the most similar movies to a specific movie",
   "id": "c6fa7438d1b278e"
  },
  {
   "metadata": {
    "ExecuteTime": {
     "end_time": "2024-08-17T19:37:58.212717Z",
     "start_time": "2024-08-17T19:37:58.207812Z"
    }
   },
   "cell_type": "code",
   "source": "movie_title = \"John Carter\"",
   "id": "332d7eb5d5f75d56",
   "outputs": [],
   "execution_count": 38
  },
  {
   "metadata": {
    "ExecuteTime": {
     "end_time": "2024-08-17T19:37:58.219645Z",
     "start_time": "2024-08-17T19:37:58.212717Z"
    }
   },
   "cell_type": "code",
   "source": [
    "movie_index = movies.loc[movies[\"title\"] == movie_title].index[0]\n",
    "movie_index"
   ],
   "id": "f6791dd17c9c2e37",
   "outputs": [
    {
     "data": {
      "text/plain": [
       "np.int64(4)"
      ]
     },
     "execution_count": 39,
     "metadata": {},
     "output_type": "execute_result"
    }
   ],
   "execution_count": 39
  },
  {
   "metadata": {
    "ExecuteTime": {
     "end_time": "2024-08-17T19:37:58.227821Z",
     "start_time": "2024-08-17T19:37:58.219645Z"
    }
   },
   "cell_type": "code",
   "source": [
    "scores = list(enumerate(similarity_matrix[movie_index]))\n",
    "scores[:10]"
   ],
   "id": "550ef5727e9d4a5",
   "outputs": [
    {
     "data": {
      "text/plain": [
       "[(0, np.float64(0.0)),\n",
       " (1, np.float64(0.033368675996424305)),\n",
       " (2, np.float64(0.0)),\n",
       " (3, np.float64(0.010433403719159351)),\n",
       " (4, np.float64(0.9999999999999998)),\n",
       " (5, np.float64(0.0)),\n",
       " (6, np.float64(0.009339192776152496)),\n",
       " (7, np.float64(0.037407042075763064)),\n",
       " (8, np.float64(0.0)),\n",
       " (9, np.float64(0.01714819056424443))]"
      ]
     },
     "execution_count": 40,
     "metadata": {},
     "output_type": "execute_result"
    }
   ],
   "execution_count": 40
  },
  {
   "metadata": {
    "ExecuteTime": {
     "end_time": "2024-08-17T19:37:58.237620Z",
     "start_time": "2024-08-17T19:37:58.227821Z"
    }
   },
   "cell_type": "code",
   "source": [
    "sort_similarity = sorted(scores, reverse=True, key=lambda x: x[1])\n",
    "sort_similarity[:10]"
   ],
   "id": "7ffc1de9af2be7ed",
   "outputs": [
    {
     "data": {
      "text/plain": [
       "[(4, np.float64(0.9999999999999998)),\n",
       " (1254, np.float64(0.20497253140891997)),\n",
       " (4161, np.float64(0.16370347641323713)),\n",
       " (2932, np.float64(0.12239400129620456)),\n",
       " (3349, np.float64(0.11887151040572358)),\n",
       " (1307, np.float64(0.11468689553107403)),\n",
       " (3068, np.float64(0.11237609168095009)),\n",
       " (345, np.float64(0.09079218287485014)),\n",
       " (581, np.float64(0.0900594125581888)),\n",
       " (2998, np.float64(0.08877535757173034))]"
      ]
     },
     "execution_count": 41,
     "metadata": {},
     "output_type": "execute_result"
    }
   ],
   "execution_count": 41
  },
  {
   "metadata": {
    "ExecuteTime": {
     "end_time": "2024-08-17T19:37:58.335420Z",
     "start_time": "2024-08-17T19:37:58.330789Z"
    }
   },
   "cell_type": "code",
   "source": [
    "similar_movies_indexes = [tpls[0] for tpls in sort_similarity[1:4]]\n",
    "similar_movies_indexes"
   ],
   "id": "1fc1ac014818d9cd",
   "outputs": [
    {
     "data": {
      "text/plain": [
       "[1254, 4161, 2932]"
      ]
     },
     "execution_count": 42,
     "metadata": {},
     "output_type": "execute_result"
    }
   ],
   "execution_count": 42
  },
  {
   "metadata": {
    "ExecuteTime": {
     "end_time": "2024-08-17T19:37:58.402731Z",
     "start_time": "2024-08-17T19:37:58.395818Z"
    }
   },
   "cell_type": "code",
   "source": [
    "similar_movies = list(movies[\"title\"].iloc[similar_movies_indexes])\n",
    "similar_movies"
   ],
   "id": "2cf42e5e7b07223c",
   "outputs": [
    {
     "data": {
      "text/plain": [
       "['Get Carter', 'The Marine 4: Moving Target', 'Raising Cain']"
      ]
     },
     "execution_count": 43,
     "metadata": {},
     "output_type": "execute_result"
    }
   ],
   "execution_count": 43
  },
  {
   "metadata": {
    "ExecuteTime": {
     "end_time": "2024-08-17T19:37:58.510465Z",
     "start_time": "2024-08-17T19:37:58.504656Z"
    }
   },
   "cell_type": "code",
   "source": [
    "def get_similar_movies(movie_title, nr_movies):\n",
    "    movie_index = movies.loc[movies[\"title\"] == movie_title].index[0]\n",
    "    scores = list(enumerate(similarity_matrix[movie_index]))\n",
    "    sort_similarity = sorted(scores, reverse=True, key=lambda x: x[1])\n",
    "    similar_movies_indexes = [tpls[0] for tpls in sort_similarity[1:nr_movies+1]]\n",
    "    similar_movies = list(movies[\"title\"].iloc[similar_movies_indexes])\n",
    "    return similar_movies"
   ],
   "id": "6bec5dbefc3e5404",
   "outputs": [],
   "execution_count": 44
  },
  {
   "metadata": {
    "ExecuteTime": {
     "end_time": "2024-08-17T19:37:58.564673Z",
     "start_time": "2024-08-17T19:37:58.552137Z"
    }
   },
   "cell_type": "code",
   "source": "get_similar_movies(\"Kung Fu Panda 3\", 3)",
   "id": "463c3d0ffc11182b",
   "outputs": [
    {
     "data": {
      "text/plain": [
       "['Kung Fu Panda 2',\n",
       " 'My Big Fat Greek Wedding 2',\n",
       " 'Once Upon a Time in the West']"
      ]
     },
     "execution_count": 45,
     "metadata": {},
     "output_type": "execute_result"
    }
   ],
   "execution_count": 45
  }
 ],
 "metadata": {
  "kernelspec": {
   "display_name": "Python 3",
   "language": "python",
   "name": "python3"
  },
  "language_info": {
   "codemirror_mode": {
    "name": "ipython",
    "version": 2
   },
   "file_extension": ".py",
   "mimetype": "text/x-python",
   "name": "python",
   "nbconvert_exporter": "python",
   "pygments_lexer": "ipython2",
   "version": "2.7.6"
  }
 },
 "nbformat": 4,
 "nbformat_minor": 5
}
